{
 "cells": [
  {
   "cell_type": "code",
   "execution_count": 26,
   "metadata": {},
   "outputs": [],
   "source": [
    "import os\n",
    "import random\n",
    "from PIL import Image\n",
    "%matplotlib inline\n",
    "import numpy as np\n",
    "import matplotlib.pyplot as plt\n",
    "import os\n",
    "from collections import defaultdict\n",
    "import cv2\n",
    "from matplotlib.patches import Polygon, Circle\n",
    "from matplotlib.collections import PatchCollection"
   ]
  },
  {
   "cell_type": "code",
   "execution_count": 14,
   "metadata": {},
   "outputs": [],
   "source": [
    "def GetFilesFromDirectory(directory):\n",
    "    allfiles = []\n",
    "    for root,dirs,files in os.walk(directory):\n",
    "        for filespath in files:\n",
    "            filepath = os.path.join(root, filespath)\n",
    "            allfiles.append(filepath)\n",
    "        return allfiles"
   ]
  },
  {
   "cell_type": "code",
   "execution_count": 18,
   "metadata": {},
   "outputs": [],
   "source": [
    "image_paths = GetFilesFromDirectory('data/assignment_imgs')"
   ]
  },
  {
   "cell_type": "code",
   "execution_count": 29,
   "metadata": {},
   "outputs": [
    {
     "data": {
      "text/plain": [
       "'data/assignment_imgs/21093_2017_01_29_12_39_54.jpg'"
      ]
     },
     "execution_count": 29,
     "metadata": {},
     "output_type": "execute_result"
    }
   ],
   "source": [
    "imgpath = random.choice(imagefiles)\n",
    "imgpath"
   ]
  },
  {
   "cell_type": "code",
   "execution_count": 30,
   "metadata": {},
   "outputs": [],
   "source": [
    "im = Image.open(imgpath)\n",
    "im.show()"
   ]
  },
  {
   "cell_type": "code",
   "execution_count": null,
   "metadata": {},
   "outputs": [],
   "source": [
    "im = "
   ]
  },
  {
   "cell_type": "code",
   "execution_count": null,
   "metadata": {},
   "outputs": [],
   "source": [
    "    def showAnns(self, objects, imgId, mode = 'hor'):\n",
    "        \"\"\"\n",
    "        :param catNms: category names\n",
    "        :param objects: objects to show\n",
    "        :param imgId: img to show\n",
    "        :return:\n",
    "        \"\"\"\n",
    "        plt.figure(figsize= (15,20))\n",
    "        img = self.loadImgs(imgId)[0]\n",
    "        plt.imshow(img)\n",
    "        plt.axis('off')\n",
    "\n",
    "        ax = plt.gca()\n",
    "        ax.set_autoscale_on(False)\n",
    "        polygons = []\n",
    "        color = []\n",
    "        circles = []\n",
    "        r = 1\n",
    "        for obj in objects:\n",
    "            c = (np.random.random((1, 3)) * 0.6 + 0.4).tolist()[0]\n",
    "            if mode == 'hor':\n",
    "                poly = obj['poly']\n",
    "            elif mode == 'rot':\n",
    "                poly = obj['polyr']\n",
    "            polygons.append(Polygon(poly))\n",
    "            color.append(c)\n",
    "            point = poly[0]\n",
    "            circle = Circle((point[0], point[1]), r)\n",
    "            circles.append(circle)\n",
    "        p = PatchCollection(polygons, facecolors=color, linewidths=0, alpha=0.4)\n",
    "        ax.add_collection(p)\n",
    "        p = PatchCollection(polygons, facecolors='none', edgecolors=color, linewidths=2)\n",
    "        ax.add_collection(p)\n",
    "        p = PatchCollection(circles, facecolors='red')\n",
    "        ax.add_collection(p)"
   ]
  }
 ],
 "metadata": {
  "kernelspec": {
   "display_name": "Python 3",
   "language": "python",
   "name": "python3"
  },
  "language_info": {
   "codemirror_mode": {
    "name": "ipython",
    "version": 3
   },
   "file_extension": ".py",
   "mimetype": "text/x-python",
   "name": "python",
   "nbconvert_exporter": "python",
   "pygments_lexer": "ipython3",
   "version": "3.8.2"
  }
 },
 "nbformat": 4,
 "nbformat_minor": 4
}
